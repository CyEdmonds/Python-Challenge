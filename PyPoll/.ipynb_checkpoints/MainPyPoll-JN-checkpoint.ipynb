{
 "cells": [
  {
   "cell_type": "code",
   "execution_count": 1,
   "metadata": {},
   "outputs": [],
   "source": [
    "#  import dependencies\n",
    "import os\n",
    "import csv"
   ]
  },
  {
   "cell_type": "code",
   "execution_count": 2,
   "metadata": {},
   "outputs": [],
   "source": [
    "#  create path to input data\n",
    "polldata = os.path.join(\"Resources/election_data.csv\")\n",
    "summpoll = os.path.join(\"Summary/election_results.txt\")"
   ]
  },
  {
   "cell_type": "code",
   "execution_count": 3,
   "metadata": {},
   "outputs": [],
   "source": [
    "#  create a dictionary for storing election data\n",
    "election = {}\n",
    "\n",
    "#  define lists for gathering data\n",
    "candidate = []\n",
    "cand_vote = []\n",
    "percent = []\n",
    "winnerlst = []\n",
    "\n",
    "#  set initial total votes to zero\n",
    "total_votes = 0"
   ]
  },
  {
   "cell_type": "code",
   "execution_count": 4,
   "metadata": {},
   "outputs": [],
   "source": [
    "#  Read the csvfile, skipping header and parse data to the dictionary\n",
    "with open(polldata, 'r') as csvfile:\n",
    "    csvread = csv.reader(csvfile)\n",
    "    next(csvread, None)\n",
    "    for row in csvread:\n",
    "        if row[2] in election.keys():\n",
    "            election[row[2]] = election[row[2]]+1\n",
    "        else:\n",
    "            election[row[2]] = 1\n",
    "        total_votes += 1"
   ]
  },
  {
   "cell_type": "code",
   "execution_count": 5,
   "metadata": {},
   "outputs": [],
   "source": [
    "#  fill lists with data from dictionary keys\n",
    "for key, value in election.items():\n",
    "    candidate.append(key)\n",
    "    cand_vote.append(value)\n",
    "# print(election)     #  for checking and debugging, note: had to reset kernel when running from jupyter notebook"
   ]
  },
  {
   "cell_type": "code",
   "execution_count": 6,
   "metadata": {},
   "outputs": [],
   "source": [
    "#  calculates percent of total votes each candidate received\n",
    "for q in cand_vote:\n",
    "    percent.append(round(q/total_votes*100, 1))"
   ]
  },
  {
   "cell_type": "code",
   "execution_count": 7,
   "metadata": {},
   "outputs": [],
   "source": [
    "# percent     #  checking and debugging"
   ]
  },
  {
   "cell_type": "code",
   "execution_count": 8,
   "metadata": {},
   "outputs": [],
   "source": [
    "#  create tuple from lists\n",
    "cand_tpl = list(zip(candidate, cand_vote, percent))"
   ]
  },
  {
   "cell_type": "code",
   "execution_count": 9,
   "metadata": {},
   "outputs": [],
   "source": [
    "# cand_tpl     #  checking and debugging"
   ]
  },
  {
   "cell_type": "code",
   "execution_count": 10,
   "metadata": {},
   "outputs": [],
   "source": [
    "#  determine winner  (accounts for a tie)\n",
    "for name in cand_tpl:\n",
    "    if max(cand_vote) == name[1]:\n",
    "        winnerlst.append(name[0])\n",
    "        winner = winnerlst[0]     #  originally created this variable with others at top, moved here when code caused problems\n",
    "        if len(winnerlst) > 1:\n",
    "            for r in range(1, len(winnerlst)):\n",
    "                winner = winner + \",\" + winnerlst[r]"
   ]
  },
  {
   "cell_type": "code",
   "execution_count": 11,
   "metadata": {},
   "outputs": [],
   "source": [
    "# winner     #  checking and debugging, note: can check to see if above loop works by running multiple times in jupyter nb"
   ]
  },
  {
   "cell_type": "code",
   "execution_count": 12,
   "metadata": {},
   "outputs": [],
   "source": [
    "#  write data to output file 'election_results.txt'\n",
    "with open(summpoll, 'w') as tally:\n",
    "    tally.write(\"------------------------------\" + '\\n')\n",
    "    tally.write(\"->     Election Results     <-\" + '\\n')\n",
    "    tally.write(\"------------------------------\" + '\\n')\n",
    "    tally.write(\"Total Votes: \" + str(total_votes) + '\\n')\n",
    "    tally.write(\"------------------------------\" + '\\n')\n",
    "    for entry in cand_tpl:\n",
    "        tally.write(entry[0] + \": \" + str(entry[2]) + \"% (\" + str(entry[1]) + \")\" + '\\n')\n",
    "    tally.write(\"------------------------------\" + '\\n')\n",
    "    tally.write(\"Winner: \" + winner + '\\n')\n",
    "    tally.write(\"------------------------------\" + '\\n')\n",
    "    tally.close"
   ]
  },
  {
   "cell_type": "code",
   "execution_count": 13,
   "metadata": {},
   "outputs": [
    {
     "name": "stdout",
     "output_type": "stream",
     "text": [
      "------------------------------\n",
      "->     Election Results     <-\n",
      "------------------------------\n",
      "Total Votes: 3521001\n",
      "------------------------------\n",
      "Khan: 63.0% (2218231)\n",
      "Correy: 20.0% (704200)\n",
      "Li: 14.0% (492940)\n",
      "O'Tooley: 3.0% (105630)\n",
      "------------------------------\n",
      "Winner: Khan\n",
      "------------------------------\n",
      "\n"
     ]
    }
   ],
   "source": [
    "#  print 'election_results.txt' to terminal\n",
    "with open(summpoll, 'r') as terminaltally:\n",
    "    print(terminaltally.read())"
   ]
  },
  {
   "cell_type": "code",
   "execution_count": null,
   "metadata": {},
   "outputs": [],
   "source": []
  }
 ],
 "metadata": {
  "kernelspec": {
   "display_name": "Python 3",
   "language": "python",
   "name": "python3"
  },
  "language_info": {
   "codemirror_mode": {
    "name": "ipython",
    "version": 3
   },
   "file_extension": ".py",
   "mimetype": "text/x-python",
   "name": "python",
   "nbconvert_exporter": "python",
   "pygments_lexer": "ipython3",
   "version": "3.7.1"
  }
 },
 "nbformat": 4,
 "nbformat_minor": 2
}
